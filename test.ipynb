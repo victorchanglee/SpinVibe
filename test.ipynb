{
 "cells": [
  {
   "cell_type": "code",
   "execution_count": null,
   "metadata": {},
   "outputs": [
    {
     "name": "stdout",
     "output_type": "stream",
     "text": [
      "[[1.]]\n",
      "[[ 0.5  0.   0.   0. ]\n",
      " [ 0.   0.5  0.   0. ]\n",
      " [ 0.   0.  -0.5 -0. ]\n",
      " [ 0.   0.  -0.  -0.5]]\n"
     ]
    },
    {
     "ename": "ValueError",
     "evalue": "operands could not be broadcast together with shapes (3,) (4,4) ",
     "output_type": "error",
     "traceback": [
      "\u001b[0;31m---------------------------------------------------------------------------\u001b[0m",
      "\u001b[0;31mValueError\u001b[0m                                Traceback (most recent call last)",
      "Cell \u001b[0;32mIn[4], line 93\u001b[0m\n\u001b[1;32m     91\u001b[0m         J_tensor[i,j] \u001b[38;5;241m=\u001b[39m np\u001b[38;5;241m.\u001b[39meye(\u001b[38;5;241m3\u001b[39m) \n\u001b[1;32m     92\u001b[0m \u001b[38;5;66;03m# Construct the Hamiltonian\u001b[39;00m\n\u001b[0;32m---> 93\u001b[0m H_total \u001b[38;5;241m=\u001b[39m \u001b[43mconstruct_hamiltonian\u001b[49m\u001b[43m(\u001b[49m\u001b[43mS\u001b[49m\u001b[43m,\u001b[49m\u001b[43m \u001b[49m\u001b[43mNs\u001b[49m\u001b[43m,\u001b[49m\u001b[43m \u001b[49m\u001b[43mB\u001b[49m\u001b[43m,\u001b[49m\u001b[43m \u001b[49m\u001b[43mg_tensor\u001b[49m\u001b[43m,\u001b[49m\u001b[43m \u001b[49m\u001b[43mJ_tensor\u001b[49m\u001b[43m)\u001b[49m\n\u001b[1;32m     95\u001b[0m \u001b[38;5;66;03m# Print the Hamiltonian\u001b[39;00m\n\u001b[1;32m     96\u001b[0m \u001b[38;5;28mprint\u001b[39m(\u001b[38;5;124m\"\u001b[39m\u001b[38;5;124mHamiltonian matrix:\u001b[39m\u001b[38;5;124m\"\u001b[39m)\n",
      "Cell \u001b[0;32mIn[4], line 50\u001b[0m, in \u001b[0;36mconstruct_hamiltonian\u001b[0;34m(S, Ns, B, g_tensor, J_tensor)\u001b[0m\n\u001b[1;32m     48\u001b[0m \u001b[38;5;28mprint\u001b[39m(Sz_total)\n\u001b[1;32m     49\u001b[0m \u001b[38;5;66;03m# Add g-tensor contributions\u001b[39;00m\n\u001b[0;32m---> 50\u001b[0m H_ext \u001b[38;5;241m+\u001b[39m\u001b[38;5;241m=\u001b[39m \u001b[43mB\u001b[49m\u001b[43m[\u001b[49m\u001b[38;5;241;43m0\u001b[39;49m\u001b[43m]\u001b[49m\u001b[43m \u001b[49m\u001b[38;5;241;43m*\u001b[39;49m\u001b[43m \u001b[49m\u001b[43mg_tensor\u001b[49m\u001b[43m[\u001b[49m\u001b[43mi\u001b[49m\u001b[43m]\u001b[49m\u001b[43m[\u001b[49m\u001b[38;5;241;43m0\u001b[39;49m\u001b[43m]\u001b[49m\u001b[43m \u001b[49m\u001b[38;5;241;43m*\u001b[39;49m\u001b[43m \u001b[49m\u001b[43mSx_total\u001b[49m\n\u001b[1;32m     51\u001b[0m H_ext \u001b[38;5;241m+\u001b[39m\u001b[38;5;241m=\u001b[39m B[\u001b[38;5;241m1\u001b[39m] \u001b[38;5;241m*\u001b[39m g_tensor[i][\u001b[38;5;241m1\u001b[39m] \u001b[38;5;241m*\u001b[39m Sy_total\n\u001b[1;32m     52\u001b[0m H_ext \u001b[38;5;241m+\u001b[39m\u001b[38;5;241m=\u001b[39m B[\u001b[38;5;241m2\u001b[39m] \u001b[38;5;241m*\u001b[39m g_tensor[i][\u001b[38;5;241m2\u001b[39m] \u001b[38;5;241m*\u001b[39m Sz_total\n",
      "\u001b[0;31mValueError\u001b[0m: operands could not be broadcast together with shapes (3,) (4,4) "
     ]
    }
   ],
   "source": [
    "import numpy as np\n",
    "from scipy.linalg import kron\n",
    "\n",
    "def spin_operators(S):\n",
    "    \"\"\"Returns the spin operators Sx, Sy, Sz for a given spin quantum number S.\"\"\"\n",
    "    dim = int(2 * S + 1)\n",
    "    m = np.arange(S, -S-1, -1)  # m values\n",
    "    Sx = np.zeros((dim, dim))\n",
    "    Sy = np.zeros((dim, dim))\n",
    "    Sz = np.diag(m)\n",
    "    \n",
    "    for i in range(dim - 1):\n",
    "        Sx[i, i + 1] = 0.5 * np.sqrt((S - m[i]) * (S + m[i + 1]))\n",
    "        Sx[i + 1, i] = 0.5 * np.sqrt((S - m[i]) * (S + m[i + 1]))\n",
    "        Sy[i, i + 1] = -0.5 * np.sqrt((S - m[i]) * (S + m[i + 1]))\n",
    "        Sy[i + 1, i] = 0.5 * np.sqrt((S - m[i + 1]) * (S + m[i]))\n",
    "    \n",
    "    return Sx, Sy, Sz\n",
    "\n",
    "def construct_hamiltonian(S, Ns, B, g_tensor, J_tensor):\n",
    "    \"\"\"\n",
    "    Constructs the Hamiltonian for a system of Ns spins with spin quantum number S.\n",
    "    Includes external field and spin-spin interaction terms.\n",
    "    \"\"\"\n",
    "    # Spin operators for a single spin\n",
    "    Sx, Sy, Sz = spin_operators(S)\n",
    "    dim = int(2 * S + 1)\n",
    "    \n",
    "    # Total dimension of the Hilbert space\n",
    "    hilbert_dim = dim ** Ns\n",
    "    \n",
    "    # External field term\n",
    "    H_ext = np.zeros((hilbert_dim, hilbert_dim), dtype=np.complex128)\n",
    "    for i in range(Ns):\n",
    "        Sx_total = np.eye(1)\n",
    "        Sy_total = np.eye(1)\n",
    "        Sz_total = np.eye(1)\n",
    "        print(Sy_total)\n",
    "        for j in range(Ns):\n",
    "            if j == i:\n",
    "                Sx_total = kron(Sx_total, Sx)\n",
    "                Sy_total = kron(Sy_total, Sy)\n",
    "                Sz_total = kron(Sz_total, Sz)\n",
    "            else:\n",
    "                Sx_total = kron(Sx_total, np.eye(dim))\n",
    "                Sy_total = kron(Sy_total, np.eye(dim))\n",
    "                Sz_total = kron(Sz_total, np.eye(dim))\n",
    "        print(Sz_total)\n",
    "        # Add g-tensor contributions\n",
    "        H_ext += B[0] * g_tensor[i][0] * Sx_total\n",
    "        H_ext += B[1] * g_tensor[i][1] * Sy_total\n",
    "        H_ext += B[2] * g_tensor[i][2] * Sz_total\n",
    "    \n",
    "    # Spin-spin interaction term\n",
    "    H_spin_spin = np.zeros((hilbert_dim, hilbert_dim), dtype=np.complex128)\n",
    "    for i in range(Ns):\n",
    "        for j in range(i + 1, Ns):\n",
    "            J = J_tensor[i][j]\n",
    "            for op1, op2, J_comp in zip([Sx, Sy, Sz], [Sx, Sy, Sz], J):\n",
    "                Si = np.eye(1)\n",
    "                Sj = np.eye(1)\n",
    "                for k in range(Ns):\n",
    "                    if k == i:\n",
    "                        Si = kron(Si, op1)\n",
    "                    else:\n",
    "                        Si = kron(Si, np.eye(dim))\n",
    "                    if k == j:\n",
    "                        Sj = kron(Sj, op2)\n",
    "                    else:\n",
    "                        Sj = kron(Sj, np.eye(dim))\n",
    "                H_spin_spin += J_comp * Si @ Sj\n",
    "    \n",
    "    # Total Hamiltonian\n",
    "    H_total = H_ext + H_spin_spin\n",
    "    \n",
    "    return H_total\n",
    "\n",
    "# Parameters\n",
    "S = 0.5  # Spin quantum number (spin-1/2)\n",
    "Ns = 2   # Number of spins\n",
    "B = [1.0, 0.0, 0.5]  # Magnetic field vector (Bx, By, Bz)\n",
    "g_tensor = np.zeros((Ns, 3, 3), dtype=np.float64)  # g-tensor\n",
    "\n",
    "for i in range(Ns):\n",
    "    g_tensor[i] = np.eye(3)\n",
    "\n",
    "J_tensor = np.zeros((Ns,Ns, 3, 3), dtype=np.float64)\n",
    "    \n",
    "for i in range(Ns):\n",
    "    for j in range(Ns):\n",
    "        J_tensor[i,j] = np.eye(3) \n",
    "# Construct the Hamiltonian\n",
    "H_total = construct_hamiltonian(S, Ns, B, g_tensor, J_tensor)\n",
    "\n",
    "# Print the Hamiltonian\n",
    "print(\"Hamiltonian matrix:\")\n",
    "print(H_total)\n",
    "\n",
    "# Check memory usage\n",
    "print(f\"Hamiltonian matrix size: {H_total.nbytes / (1024 ** 2):.2f} MB\")\n"
   ]
  },
  {
   "cell_type": "code",
   "execution_count": 1,
   "metadata": {},
   "outputs": [
    {
     "ename": "TypeError",
     "evalue": "unsupported operand type(s) for *: 'float' and 'ellipsis'",
     "output_type": "error",
     "traceback": [
      "\u001b[0;31m---------------------------------------------------------------------------\u001b[0m",
      "\u001b[0;31mTypeError\u001b[0m                                 Traceback (most recent call last)",
      "Cell \u001b[0;32mIn[1], line 13\u001b[0m\n\u001b[1;32m     11\u001b[0m \u001b[38;5;28;01mfor\u001b[39;00m i \u001b[38;5;129;01min\u001b[39;00m \u001b[38;5;28mrange\u001b[39m(N_s):\n\u001b[1;32m     12\u001b[0m     \u001b[38;5;28;01mif\u001b[39;00m i \u001b[38;5;241m==\u001b[39m \u001b[38;5;241m0\u001b[39m:\n\u001b[0;32m---> 13\u001b[0m         Sx_total \u001b[38;5;241m=\u001b[39m \u001b[43mnp\u001b[49m\u001b[38;5;241;43m.\u001b[39;49m\u001b[43mkron\u001b[49m\u001b[43m(\u001b[49m\u001b[43mSx_total\u001b[49m\u001b[43m,\u001b[49m\u001b[43m \u001b[49m\u001b[43mSx\u001b[49m\u001b[43m)\u001b[49m\n\u001b[1;32m     14\u001b[0m     \u001b[38;5;28;01melse\u001b[39;00m:\n\u001b[1;32m     15\u001b[0m         Sx_total \u001b[38;5;241m=\u001b[39m np\u001b[38;5;241m.\u001b[39mkron(Sx_total, np\u001b[38;5;241m.\u001b[39meye(dim))\n",
      "File \u001b[0;32m~/.conda/envs/work/lib/python3.9/site-packages/numpy/lib/shape_base.py:1152\u001b[0m, in \u001b[0;36mkron\u001b[0;34m(a, b)\u001b[0m\n\u001b[1;32m   1149\u001b[0m nd \u001b[38;5;241m=\u001b[39m \u001b[38;5;28mmax\u001b[39m(ndb, nda)\n\u001b[1;32m   1151\u001b[0m \u001b[38;5;28;01mif\u001b[39;00m (nda \u001b[38;5;241m==\u001b[39m \u001b[38;5;241m0\u001b[39m \u001b[38;5;129;01mor\u001b[39;00m ndb \u001b[38;5;241m==\u001b[39m \u001b[38;5;241m0\u001b[39m):\n\u001b[0;32m-> 1152\u001b[0m     \u001b[38;5;28;01mreturn\u001b[39;00m \u001b[43m_nx\u001b[49m\u001b[38;5;241;43m.\u001b[39;49m\u001b[43mmultiply\u001b[49m\u001b[43m(\u001b[49m\u001b[43ma\u001b[49m\u001b[43m,\u001b[49m\u001b[43m \u001b[49m\u001b[43mb\u001b[49m\u001b[43m)\u001b[49m\n\u001b[1;32m   1154\u001b[0m as_ \u001b[38;5;241m=\u001b[39m a\u001b[38;5;241m.\u001b[39mshape\n\u001b[1;32m   1155\u001b[0m bs \u001b[38;5;241m=\u001b[39m b\u001b[38;5;241m.\u001b[39mshape\n",
      "\u001b[0;31mTypeError\u001b[0m: unsupported operand type(s) for *: 'float' and 'ellipsis'"
     ]
    }
   ],
   "source": [
    "import numpy as np\n",
    "\n",
    "dim = 3  # Dimension of the spin-1 system\n",
    "N_s = 2  # Number of spins you want in the Hilbert space\n",
    "Sx = ...  # Define your spin-1 Sx matrix\n",
    "\n",
    "# Initialize Sx_total\n",
    "Sx_total = np.eye(1)\n",
    "\n",
    "# Construct the total Sx operator for N_s = 2 spins\n",
    "for i in range(N_s):\n",
    "    if i == 0:\n",
    "        Sx_total = np.kron(Sx_total, Sx)\n",
    "    else:\n",
    "        Sx_total = np.kron(Sx_total, np.eye(dim))\n",
    "\n",
    "print(\"Shape of Sx_total:\", Sx_total.shape) "
   ]
  },
  {
   "cell_type": "code",
   "execution_count": 5,
   "metadata": {},
   "outputs": [
    {
     "name": "stdout",
     "output_type": "stream",
     "text": [
      "Sx:\n",
      " [[0.         0.70710678 0.        ]\n",
      " [0.70710678 0.         0.70710678]\n",
      " [0.         0.70710678 0.        ]]\n",
      "Sy:\n",
      " [[0.+0.j         0.+0.70710678j 0.+0.j        ]\n",
      " [0.-0.70710678j 0.+0.j         0.+0.70710678j]\n",
      " [0.+0.j         0.-0.70710678j 0.+0.j        ]]\n",
      "Sz:\n",
      " [[-1.  0.  0.]\n",
      " [ 0.  0.  0.]\n",
      " [ 0.  0.  1.]]\n"
     ]
    }
   ],
   "source": [
    "import numpy as np\n",
    "\n",
    "# Spin quantum number\n",
    "S = 1\n",
    "m_values = np.array([-1, 0, 1])  # Magnetic quantum numbers\n",
    "dim = len(m_values)  # Dimension of the Hilbert space\n",
    "\n",
    "# Initialize spin operator matrices\n",
    "Sx = np.zeros((dim, dim), dtype=complex)\n",
    "Sy = np.zeros((dim, dim), dtype=complex)\n",
    "Sz = np.zeros((dim, dim), dtype=complex)\n",
    "\n",
    "# Compute matrix elements\n",
    "for i, m in enumerate(m_values):  # m is the row index\n",
    "    for j, m_prime in enumerate(m_values):  # m' is the column index\n",
    "        # Sx\n",
    "        if m_prime == m + 1 or m_prime == m - 1:\n",
    "            Sx[j, i] = 0.5 * np.sqrt(S * (S + 1) - m * m_prime)\n",
    "\n",
    "        # Sy\n",
    "        if m_prime == m + 1:\n",
    "            Sy[j, i] = -0.5j * np.sqrt(S * (S + 1) - m * m_prime)\n",
    "        elif m_prime == m - 1:\n",
    "            Sy[j, i] = 0.5j * np.sqrt(S * (S + 1) - m * m_prime)\n",
    "\n",
    "        # Sz\n",
    "        if m_prime == m:\n",
    "            Sz[j, i] = m\n",
    "\n",
    "# Print the matrices\n",
    "print(\"Sx:\\n\", Sx.real)\n",
    "print(\"Sy:\\n\", Sy)\n",
    "print(\"Sz:\\n\", Sz.real)"
   ]
  },
  {
   "cell_type": "code",
   "execution_count": 14,
   "metadata": {},
   "outputs": [
    {
     "name": "stdout",
     "output_type": "stream",
     "text": [
      "[[1. 0. 0.]\n",
      " [0. 1. 0.]\n",
      " [0. 0. 1.]]\n",
      "[[1. 1. 1. 0. 0. 0. 0. 0. 0.]\n",
      " [1. 1. 1. 0. 0. 0. 0. 0. 0.]\n",
      " [1. 1. 1. 0. 0. 0. 0. 0. 0.]\n",
      " [0. 0. 0. 1. 1. 1. 0. 0. 0.]\n",
      " [0. 0. 0. 1. 1. 1. 0. 0. 0.]\n",
      " [0. 0. 0. 1. 1. 1. 0. 0. 0.]\n",
      " [0. 0. 0. 0. 0. 0. 1. 1. 1.]\n",
      " [0. 0. 0. 0. 0. 0. 1. 1. 1.]\n",
      " [0. 0. 0. 0. 0. 0. 1. 1. 1.]]\n"
     ]
    }
   ],
   "source": [
    "import numpy as np\n",
    "\n",
    "print(np.eye(3))\n",
    "\n",
    "print(np.kron(np.eye(3), np.ones((3,3))))"
   ]
  },
  {
   "cell_type": "code",
   "execution_count": 27,
   "metadata": {},
   "outputs": [
    {
     "name": "stdout",
     "output_type": "stream",
     "text": [
      "[[1. 0. 0. 1. 0. 0. 1. 0. 0.]\n",
      " [0. 1. 0. 0. 1. 0. 0. 1. 0.]\n",
      " [0. 0. 1. 0. 0. 1. 0. 0. 1.]\n",
      " [1. 0. 0. 1. 0. 0. 1. 0. 0.]\n",
      " [0. 1. 0. 0. 1. 0. 0. 1. 0.]\n",
      " [0. 0. 1. 0. 0. 1. 0. 0. 1.]\n",
      " [1. 0. 0. 1. 0. 0. 1. 0. 0.]\n",
      " [0. 1. 0. 0. 1. 0. 0. 1. 0.]\n",
      " [0. 0. 1. 0. 0. 1. 0. 0. 1.]]\n",
      "[[1. 1. 1. 0. 0. 0. 0. 0. 0.]\n",
      " [1. 1. 1. 0. 0. 0. 0. 0. 0.]\n",
      " [1. 1. 1. 0. 0. 0. 0. 0. 0.]\n",
      " [0. 0. 0. 1. 1. 1. 0. 0. 0.]\n",
      " [0. 0. 0. 1. 1. 1. 0. 0. 0.]\n",
      " [0. 0. 0. 1. 1. 1. 0. 0. 0.]\n",
      " [0. 0. 0. 0. 0. 0. 1. 1. 1.]\n",
      " [0. 0. 0. 0. 0. 0. 1. 1. 1.]\n",
      " [0. 0. 0. 0. 0. 0. 1. 1. 1.]]\n",
      "[[1. 0. 0. 0. 0. 0. 0. 0. 0.]\n",
      " [0. 1. 0. 0. 0. 0. 0. 0. 0.]\n",
      " [0. 0. 1. 0. 0. 0. 0. 0. 0.]\n",
      " [0. 0. 0. 1. 0. 0. 0. 0. 0.]\n",
      " [0. 0. 0. 0. 1. 0. 0. 0. 0.]\n",
      " [0. 0. 0. 0. 0. 1. 0. 0. 0.]\n",
      " [0. 0. 0. 0. 0. 0. 1. 0. 0.]\n",
      " [0. 0. 0. 0. 0. 0. 0. 1. 0.]\n",
      " [0. 0. 0. 0. 0. 0. 0. 0. 1.]]\n"
     ]
    }
   ],
   "source": [
    "N=3\n",
    "\n",
    "Sx = np.ones((3,3))\n",
    "\n",
    "for i in range(N):\n",
    "    Sx_total = np.eye(1)\n",
    "\n",
    "    for j in range(2):\n",
    "        if j == i:\n",
    "            Sx_total = kron(Sx_total, Sx)\n",
    "\n",
    "        else:\n",
    "            Sx_total = kron(Sx_total, np.eye(N))\n",
    "    print(Sx_total)"
   ]
  },
  {
   "cell_type": "code",
   "execution_count": 30,
   "metadata": {},
   "outputs": [
    {
     "name": "stdout",
     "output_type": "stream",
     "text": [
      "[[1. 0. 0. 1. 0. 0. 1. 0. 0.]\n",
      " [0. 1. 0. 0. 1. 0. 0. 1. 0.]\n",
      " [0. 0. 1. 0. 0. 1. 0. 0. 1.]\n",
      " [1. 0. 0. 1. 0. 0. 1. 0. 0.]\n",
      " [0. 1. 0. 0. 1. 0. 0. 1. 0.]\n",
      " [0. 0. 1. 0. 0. 1. 0. 0. 1.]\n",
      " [1. 0. 0. 1. 0. 0. 1. 0. 0.]\n",
      " [0. 1. 0. 0. 1. 0. 0. 1. 0.]\n",
      " [0. 0. 1. 0. 0. 1. 0. 0. 1.]]\n"
     ]
    }
   ],
   "source": [
    "Sx_total = np.eye(N)\n",
    "\n",
    "\n",
    "Sx_total = np.kron(Sx,Sx_total )\n",
    "\n",
    "print(Sx_total)"
   ]
  },
  {
   "cell_type": "code",
   "execution_count": 31,
   "metadata": {},
   "outputs": [
    {
     "name": "stdout",
     "output_type": "stream",
     "text": [
      "Matrix 0:\n",
      "[[ 1  0  0]\n",
      " [ 0  0 -1]\n",
      " [ 0  1  0]]\n",
      "\n",
      "Matrix 1:\n",
      "[[ 0  1  0]\n",
      " [-1  0  0]\n",
      " [ 0  0  1]]\n",
      "\n",
      "Matrix 2:\n",
      "[[0 0 1]\n",
      " [0 1 0]\n",
      " [1 0 0]]\n",
      "\n"
     ]
    }
   ],
   "source": [
    "import numpy as np\n",
    "\n",
    "class Example:\n",
    "    def __init__(self):\n",
    "        # Initialize 3x3 matrices\n",
    "        self.Sx = np.array([[1, 0, 0], [0, 0, -1], [0, 1, 0]])\n",
    "        self.Sy = np.array([[0, 1, 0], [-1, 0, 0], [0, 0, 1]])\n",
    "        self.Sz = np.array([[0, 0, 1], [0, 1, 0], [1, 0, 0]])\n",
    "\n",
    "    def print_matrices(self):\n",
    "        # Iterate over the matrices and print each one with its index\n",
    "        for a, op1 in enumerate([self.Sx, self.Sy, self.Sz]):\n",
    "            print(f\"Matrix {a}:\\n{op1}\\n\")\n",
    "\n",
    "example = Example()\n",
    "example.print_matrices()"
   ]
  }
 ],
 "metadata": {
  "kernelspec": {
   "display_name": "work",
   "language": "python",
   "name": "python3"
  },
  "language_info": {
   "codemirror_mode": {
    "name": "ipython",
    "version": 3
   },
   "file_extension": ".py",
   "mimetype": "text/x-python",
   "name": "python",
   "nbconvert_exporter": "python",
   "pygments_lexer": "ipython3",
   "version": "3.9.21"
  }
 },
 "nbformat": 4,
 "nbformat_minor": 2
}
